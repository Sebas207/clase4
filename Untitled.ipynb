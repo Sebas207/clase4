{
 "cells": [
  {
   "cell_type": "code",
   "execution_count": 10,
   "metadata": {},
   "outputs": [],
   "source": [
    "from urllib.request import Request, urlopen\n",
    "from pyquery import PyQuery"
   ]
  },
  {
   "cell_type": "code",
   "execution_count": 26,
   "metadata": {},
   "outputs": [
    {
     "name": "stdout",
     "output_type": "stream",
     "text": [
      "3630.81\n"
     ]
    }
   ],
   "source": [
    "req = Request(\"https://www.dane.gov.co/index.php/indicadores-economicos\",None,{'user-agent' : 'mozilla/5.0 (Windows; U; Windows NT 5.1; de ; rv:1.9.1.5) Gecko/20091102 Firefox/3.5.5'})\n",
    "content = urlopen(req).read()\n",
    "pq = PyQuery(content)\n",
    "trm = str([i.text() for i in  pq('table').eq(1)('h1').items()][0]).replace('$','').replace('.','').replace(',','.')\n",
    "trm = float(trm) \n",
    "print(trm)\n"
   ]
  },
  {
   "cell_type": "code",
   "execution_count": 27,
   "metadata": {},
   "outputs": [
    {
     "name": "stdout",
     "output_type": "stream",
     "text": [
      "72616.2\n"
     ]
    }
   ],
   "source": [
    "valor_peso = trm * 20\n",
    "print(valor_peso)"
   ]
  },
  {
   "cell_type": "code",
   "execution_count": 28,
   "metadata": {},
   "outputs": [
    {
     "name": "stdout",
     "output_type": "stream",
     "text": [
      "908526\n"
     ]
    }
   ],
   "source": [
    "req = Request(\"https://www.dane.gov.co/index.php/indicadores-economicos\",None,{'user-agent' : 'mozilla/5.0 (Windows; U; Windows NT 5.1; de ; rv:1.9.1.5) Gecko/20091102 Firefox/3.5.5'})\n",
    "content = urlopen(req).read()\n",
    "pq = PyQuery(content)\n",
    "salariominimo = str([i.text() for i in  pq('table').eq(7)('h1').items()][0]).replace('$','').replace('.','').replace(',','.') \n",
    "print(salariominimo)\n"
   ]
  },
  {
   "cell_type": "code",
   "execution_count": 29,
   "metadata": {},
   "outputs": [],
   "source": [
    "variable = 3"
   ]
  },
  {
   "cell_type": "code",
   "execution_count": 30,
   "metadata": {},
   "outputs": [
    {
     "data": {
      "text/plain": [
       "int"
      ]
     },
     "execution_count": 30,
     "metadata": {},
     "output_type": "execute_result"
    }
   ],
   "source": [
    "type(variable)"
   ]
  },
  {
   "cell_type": "code",
   "execution_count": null,
   "metadata": {},
   "outputs": [],
   "source": []
  }
 ],
 "metadata": {
  "kernelspec": {
   "display_name": "Python 3",
   "language": "python",
   "name": "python3"
  },
  "language_info": {
   "codemirror_mode": {
    "name": "ipython",
    "version": 3
   },
   "file_extension": ".py",
   "mimetype": "text/x-python",
   "name": "python",
   "nbconvert_exporter": "python",
   "pygments_lexer": "ipython3",
   "version": "3.8.5"
  }
 },
 "nbformat": 4,
 "nbformat_minor": 4
}
